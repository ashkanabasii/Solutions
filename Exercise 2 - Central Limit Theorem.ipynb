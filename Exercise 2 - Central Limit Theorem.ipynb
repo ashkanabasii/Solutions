{
  "cells": [
    {
      "cell_type": "markdown",
      "metadata": {
        "id": "EH6PLLiGSq1n"
      },
      "source": [
        "__Ayman Saad__\n",
        "<br>\n",
        "Date: Jan. 14, 2021\n",
        "<br>\n",
        "PHYS 2030 W22"
      ]
    },
    {
      "cell_type": "markdown",
      "metadata": {
        "id": "vZ4MimddSq1q"
      },
      "source": [
        "## <center><font color=#46769B>Exercise 2: Central Limit Theorem</font></center>\n",
        "\n",
        "## <font color=#46769B>Introduction:</font>\n",
        "\n",
        "Our goals for this notebook are:\n",
        "- Verify that the central limit theorem holds for flipping a coin\n",
        "\n",
        "Required reading:\n",
        "- *Lesson 2: Monte Carlo sampling*"
      ]
    },
    {
      "cell_type": "markdown",
      "metadata": {
        "id": "H9OOgIdFSq1r"
      },
      "source": [
        "## <font color=#46769B>A remarkable fact about the Central Limit Theorem (CLT):</font>\n",
        "\n",
        "Suppose we have samples of $x$ that come from a probability distribution $P(x)$:\n",
        "$$\\left(x_0, \\, x_1, \\, x_2, \\, ..., \\, x_{N-1}\\right)$$\n",
        "The CLT tells us that if we perform many such simulations, the mean values $\\langle x \\rangle$ we obtain will follow a normal distribution around the true mean $\\mu$ of $P(x)$.\n",
        "\n",
        "Notice we didn't require that $P(x)$ *itself* was a normal distribution. In fact, $P(x)$ can be *any* discrete or continuous distribution. Nevertheless, the mean values of the samples will follow a *normal distribution*.\n",
        "\n",
        "Here we will consider the CLT in the context of flipping a coin, where $P(x)$ is certainly not a normal distribution."
      ]
    },
    {
      "cell_type": "markdown",
      "metadata": {
        "id": "zotXOIF3Sq1r"
      },
      "source": [
        "## <font color=#46769B>Part 1: Flipping a coin</font>\n",
        "\n",
        "The goal of this exercise is to verify that the CLT holds for flipping a coin. The setup is:\n",
        "- We flip a coin $N$ times, each time yielding either heads ($x=1$) with probability $p$, or tails ($x=0$) with probability $1-p$. \n",
        "- We will not assume a fair coin, setting $p=0.6$.\n",
        "\n",
        "Similar to Lecture 2, write a code `coin_flip_simulation(num)` that will return the mean value $\\langle x \\rangle$ after `num` coin flips."
      ]
    },
    {
      "cell_type": "code",
      "execution_count": 26,
      "metadata": {
        "colab": {
          "base_uri": "https://localhost:8080/"
        },
        "id": "6cmWP2MwSq1s",
        "outputId": "5024be5a-e829-4a6c-ca25-495d58c180ae"
      },
      "outputs": [
        {
          "output_type": "stream",
          "name": "stdout",
          "text": [
            "0.58\n"
          ]
        }
      ],
      "source": [
        "# Your answer to exercise 1 here\n",
        "\n",
        "import numpy as np\n",
        "import matplotlib.pyplot as plt\n",
        "def coin_flip_simulation(num):\n",
        "    heads=1;\n",
        "    tails=0;\n",
        "    option=[heads,tails,heads,tails,heads,tails,heads,tails,heads,heads]\n",
        "    x=np.random.choice(option,num)\n",
        "\n",
        "    mean=np.mean(x)\n",
        "    return mean\n",
        "num=300\n",
        "result = coin_flip_simulation(num)\n",
        "print(result)\n",
        "\n"
      ]
    },
    {
      "cell_type": "markdown",
      "metadata": {
        "id": "tBQbqRWiSq1t"
      },
      "source": [
        "## <font color=#46769B>Part 2: Central Limit Theorem</font>\n",
        "\n",
        "Perform 1000 simulations, each with `num=100`, and save your results as `list_of_means`, a list of values of $\\langle x \\rangle$ for each simulation. \n",
        "- Calculate the mean and standard deviation of `list_of_means`. Check that it agrees with the CLT.\n",
        "- Make a histogram `list_of_means` and compare it to a normal distribution predicted by the CLT."
      ]
    },
    {
      "cell_type": "code",
      "execution_count": 34,
      "metadata": {
        "colab": {
          "base_uri": "https://localhost:8080/",
          "height": 531
        },
        "id": "kqueSgSWSq1t",
        "outputId": "bbf281f4-7f2c-4c77-e481-ffaa71b35efc"
      },
      "outputs": [
        {
          "output_type": "display_data",
          "data": {
            "image/png": "[encoded data removed]",
            "text/plain": [
              "<Figure size 432x288 with 1 Axes>"
            ]
          },
          "metadata": {
            "needs_background": "light"
          }
        },
        {
          "output_type": "display_data",
          "data": {
            "image/png": "[encoded data removed]",
            "text/plain": [
              "<Figure size 432x288 with 1 Axes>"
            ]
          },
          "metadata": {
            "needs_background": "light"
          }
        }
      ],
      "source": [
        "# Your answer to exercise 2 here\n",
        "num=100\n",
        "list_of_means = []\n",
        "for i in range(1000):\n",
        "  list_of_means.append(coin_flip_simulation(num))\n",
        "\n",
        "plt.plot(list_of_means,'.')\n",
        "plt.xlabel('sim number')\n",
        "plt.ylabel('<x>')\n",
        "plt.ylim([0,1])\n",
        "plt.show()\n",
        "\n",
        "#Plotting histogram\n",
        "plt.hist(list_of_means,bins=10,density=True,label='sampling')\n",
        "\n",
        "heads=1;\n",
        "tails=0;\n",
        "option=[heads,tails,heads,tails,heads,tails,heads,tails,heads,heads]\n",
        "x=np.random.choice(option,num)\n",
        "\n",
        "#for mean and std. deviation\n",
        "mu=coin_flip_simulation(num)\n",
        "sigma=np.sqrt(sum(x**2 - mu**2)/num)\n",
        "\n",
        "#normal distribution\n",
        "x=np.linspace(0.4,0.8)\n",
        "y=1/np.sqrt(2*np.pi*sigma**2)*np.exp(-0.5*(x-mu)**2/sigma**2)\n",
        "plt.plot(x,y,label='normal dist')\n",
        "plt.legend()\n",
        "plt.show()"
      ]
    }
  ],
  "metadata": {
    "kernelspec": {
      "display_name": "Python 3",
      "language": "python",
      "name": "python3"
    },
    "language_info": {
      "codemirror_mode": {
        "name": "ipython",
        "version": 3
      },
      "file_extension": ".py",
      "mimetype": "text/x-python",
      "name": "python",
      "nbconvert_exporter": "python",
      "pygments_lexer": "ipython3",
      "version": "3.7.6"
    },
    "colab": {
      "name": "Exercise 2 - Central Limit Theorem.ipynb",
      "provenance": [],
      "toc_visible": true
    }
  },
  "nbformat": 4,
  "nbformat_minor": 0
}