{
  "cells": [
    {
      "cell_type": "markdown",
      "metadata": {
        "id": "tA7yboxhA2r5"
      },
      "source": [
        "__Ayman Saad__\n",
        "<br>\n",
        "Date: Jan. 17, 2021\n",
        "<br>\n",
        "PHYS 2030 W22"
      ]
    },
    {
      "cell_type": "markdown",
      "metadata": {
        "id": "ljW0xoEBA2r6"
      },
      "source": [
        "## <center><font color=#46769B>Exercise 3: Buffon's needle</font></center>\n",
        "\n",
        "## <font color=#46769B>Introduction:</font>\n",
        "\n",
        "Our goals for this notebook are:\n",
        "- Use Monte Carlo sampling to make a numerical estimation for $\\pi$\n",
        "\n",
        "Required reading:\n",
        "- *Lesson 2: Monte Carlo sampling*"
      ]
    },
    {
      "cell_type": "markdown",
      "metadata": {
        "id": "oyzx9_7BA2r7"
      },
      "source": [
        "## <font color=#46769B>Buffon's needle:</font>\n",
        "\n",
        "__Buffon's needle__ is a classic problem in Monte Carlo sampling, originally posed by the 18th century naturalist and mathematician George-Louis Leclerc. The problem is as follows:\n",
        "> Suppose you drop needles of length $\\ell$ at random onto a floor that has a series of equidistant parallel lines, with separation distance $d$. Provided $\\ell \\le d$, the probability that a needle will cross a line on the floor is\n",
        "$$p = \\frac{2\\ell}{\\pi d} \\, . \\qquad {\\rm (1)} $$\n",
        "\n",
        "\n",
        "\n",
        "[Figure credit: Wolfram Mathworld](https://mathworld.wolfram.com/BuffonsNeedleProblem.html)\n",
        "\n",
        "## <font color=#46769B>Goal:</font>\n",
        "We will *not* prove this result analytically. (Proofs can be found online for the curious reader.) \n",
        "Rearranging Eq. (1), we have \n",
        "$$\\pi = \\frac{2\\ell}{p d} \\, . \\qquad {\\rm (2)} $$\n",
        "Our goal is to perform a Monte Carlo simulation where we drop $N$ needles on a suitably-lined floor, estimate the probability $p$, and thereby provide a numerical estimate for $\\pi$ according to Eq. (2).\n",
        "\n",
        "For each neeedle drop, we have two discrete choices, labeled by $x$: \n",
        "- The needle crosses a line, labeled as $x=1$, occuring with probability $p$.\n",
        "- The needle does not cross a line, labeled as $x=0$, occuring with probability $1-p$.\n",
        "\n",
        "We write it in this way to make it clear that we are dealing with the same Bernoulli distribution we had for flipping a coin. Although we don't know $p$ *a priori*, we recall that $\\langle x \\rangle$ approaches the true mean $\\mu = p$ for large $N$, according to the Law of Large Numbers and the Central Limit Theorem.\n",
        "\n",
        "In other words, we simply count the number of needles that cross a line, $N_{\\rm cross}$. Then $\\langle x \\rangle = N_{\\rm cross}/N$ is our estimate for $p$, which allows us to estimate $\\pi$.\n"
      ]
    },
    {
      "cell_type": "markdown",
      "metadata": {
        "id": "1SPdRPgfA2r7"
      },
      "source": [
        "## <font color=#46769B>Exercise</font>\n",
        "\n",
        "### <font color=#46769B>Part (a)</font>\n",
        "\n",
        "Perform a simulation as described above, setting $\\ell = d = 1$. Write a function `buffon_needle(num)` that will drop `num` needles and return $\\langle x \\rangle$, the fraction of needles in your samples that cross a line. (Neglect the width of the needles and assume they are simply straight line segments.)\n",
        "\n",
        "*Hint*: Label each end of the needle with coordinates in the plane of the floor, $\\vec{r}_1 = (x_1, y_1)$ and $\\vec{r}_2 = (x_2, y_2)$. First, randomly sample $\\vec{r}_1$, noting:\n",
        "- There is a periodic translational symmetry in the $x$-direction, so you can limit your attention to $0 \\le x_1 \\le d$.\n",
        "- There is translational symmetry in the $y$ direction, so you can choose $y_1$ to be anything you like.\n",
        "\n",
        "Next, randomly choose $\\vec{r}_2$, such that\n",
        "- All orientations of the needle are equally likely.\n",
        "- The length of the needle, $|\\vec{r}_2 - \\vec{r}_1|$, is fixed to be $d$.\n",
        "\n",
        "### <font color=#46769B>Part (b)</font>\n",
        "\n",
        "For $N=10^4$, calculate the mean value of $\\pi$, $\\langle \\pi \\rangle$. What is uncertainty on this value?"
      ]
    },
    {
      "cell_type": "code",
      "execution_count": 52,
      "metadata": {
        "id": "dq4p2MDsA2r8",
        "outputId": "720903f0-e561-4a9e-efff-5c3c988213ef",
        "colab": {
          "base_uri": "https://localhost:8080/"
        }
      },
      "outputs": [
        {
          "output_type": "stream",
          "name": "stdout",
          "text": [
            "Simulation done \n",
            "\n",
            "Number hits: 6416\n",
            "Probability of hitting crack: 0.6416\n",
            "Estimate of pi: 3.1172\n",
            "\n",
            "End simulation \n"
          ]
        }
      ],
      "source": [
        "# Your answer to the exercise \n",
        "\n",
        "import numpy as np\n",
        "import matplotlib.pyplot as plt\n",
        "np.random.seed(4)\n",
        "width = 1.0    # separation distance \n",
        "needle = 1.0   # needle length\n",
        "num_hits = 0\n",
        "num_misses = 0\n",
        "x1 = 0.0; x2 = 3.0   # 1st end point\n",
        "y1 = 0.0; y2 = 4.0\n",
        "for i in range(10000):\n",
        "  x = (x2 - x1) * np.random.random() + x1\n",
        "  y = (y2 - y1) * np.random.random() + y1\n",
        "  angle = np.radians(360.0 * np.random.random())  # 0 to 2pi\n",
        "  xx = x + needle * np.cos(angle)    # 2nd end point\n",
        "  yy = y + needle * np.sin(angle)\n",
        "  if xx < x:\n",
        "    (x, xx) = (xx, x)\n",
        "    (y, yy) = (yy, y)\n",
        "  # (x,y) now to left of (xx,yy)\n",
        "  if (x < 0.0 and xx > 0.0) \\\n",
        "    or (x < 1.0 and xx > 1.0) \\\n",
        "    or (x < 2.0 and xx > 2.0) \\\n",
        "    or (x < 3.0 and xx > 3.0):\n",
        "    num_hits += 1\n",
        "  else:\n",
        "    num_misses += 1\n",
        "    \n",
        "print(\"Simulation done \\n\")\n",
        "\n",
        "pr = (num_hits * 1.0) / (num_hits + num_misses) # frequency\n",
        "pi_est = (2.0 * needle) / (pr * width)\n",
        "print(\"Number hits: \" + str(num_hits))\n",
        "print(\"Probability of hitting crack: %0.4f\" % pr)\n",
        "print(\"Estimate of pi: %0.4f\" % pi_est)\n",
        "\n",
        "print(\"\\nEnd simulation \")\n"
      ]
    },
    {
      "cell_type": "code",
      "execution_count": 14,
      "metadata": {
        "id": "8Nof5Y5HA2r8"
      },
      "outputs": [],
      "source": [
        ""
      ]
    }
  ],
  "metadata": {
    "kernelspec": {
      "display_name": "Python 3",
      "language": "python",
      "name": "python3"
    },
    "language_info": {
      "codemirror_mode": {
        "name": "ipython",
        "version": 3
      },
      "file_extension": ".py",
      "mimetype": "text/x-python",
      "name": "python",
      "nbconvert_exporter": "python",
      "pygments_lexer": "ipython3",
      "version": "3.7.6"
    },
    "colab": {
      "name": "Exercise 3 - Buffon's Needle.ipynb",
      "provenance": []
    }
  },
  "nbformat": 4,
  "nbformat_minor": 0
}