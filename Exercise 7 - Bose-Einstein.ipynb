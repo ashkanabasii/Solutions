{
  "cells": [
    {
      "cell_type": "markdown",
      "metadata": {
        "id": "i36g93xT9yGu"
      },
      "source": [
        "__Your name here__\n",
        "<br>\n",
        "Date: Jan. 26, 2021\n",
        "<br>\n",
        "PHYS 2030 W22"
      ]
    },
    {
      "cell_type": "markdown",
      "metadata": {
        "id": "n85BpWoB9yGv"
      },
      "source": [
        "# <center><font color=#46769B>Exercise 7: Bose-Einstein distributions</font></center>\n",
        "\n",
        "## <font color=#46769B>Introduction:</font>\n",
        "\n",
        "We consider a probability distribution function for photon energies emitted by a black body, described by the Bose-Einstein distribution.\n",
        "This PDF, whose CDF cannot be computed in terms of elementary functions, presents an opportunity to explore __importance sampling__.\n",
        "\n",
        "\n",
        "Our goals for this notebook are:\n",
        "- Practice finding your own proposal distribution for importance sampling.\n",
        "- Use imporance sampling to describe a target distribution.\n",
        "\n",
        "Required reading:\n",
        "- *Lesson 4: Importance Sampling*"
      ]
    },
    {
      "cell_type": "markdown",
      "metadata": {
        "id": "yhMKRoSx9yGw"
      },
      "source": [
        "## <font color=#46769B>Bose-Einstein distribution:</font>\n",
        "\n",
        "Black-body radiation is the characteristic electromagnetic radiation that is emitted from an object with temperature $T$. \n",
        "(You are no doubt aware of the fact that hot objects can radiate infrared and visible light. But if you are not familiar with this topic - and its context in the history of important discoveries in physics - you may want to [watch a video](https://www.youtube.com/watch?v=7BXvc9W97iU).)\n",
        "\n",
        "For an ideal black body with temperature $T$, photons are emitted with a continuous spectrum of energies that follows a characteristic distribution, known as a *Bose-Einstein distribution*.<font color=red>$^1$</font>\n",
        "The Bose-Einstein distribution predicts that the probability of measuring a photon with energy in the range $[E,E+dE]$ is $P(E) \\, dE$, where the PDF is\n",
        "$$P(E) = \\left\\{ \\begin{array}{cc} \\frac{A E^2}{(k_B T)^3} \\left(e^{\\frac{E}{k_B T}} -1 \\right)^{-1} & {\\rm for} \\; E \\ge 0 \\\\\n",
        "0 & {\\rm otherwise} \\end{array} \\right. \\, ,$$\n",
        "where $k_B$ is Boltzmann's constant and $A = 0.415954$ is a numerical constant fixed by requiring the total probability for a photon to have *any* energy is 100\\%, i.e.,  $\\int_{0}^\\infty dE \\, P(E) = 1$. \n",
        "\n",
        "### <font color=#46769B>Footnotes:</font>\n",
        "\n",
        "<font color=red>$^1$</font> While the functional form of the black-body spectrum was first discovered by Planck, it was later derived by [Bose](https://physicstoday.scitation.org/do/10.1063/PT.5.031387/full/) in his pioneering work on quantum statistics. \n",
        "Bose sent his paper on the subject to Einstein, along with this beautifully aspirational accompanying [letter](https://www.reddit.com/r/Physics/comments/inocza/bose_letter_to_einstein_which_accompanied_his/). \n",
        "Einstein, recognizing its importance, translated Bose's work into German and facilitated its publication.\n",
        "The word *boson* is named in honor of Bose.\n",
        "\n",
        "\n",
        "\n"
      ]
    },
    {
      "cell_type": "markdown",
      "metadata": {
        "id": "YYuAY1hO9yGw"
      },
      "source": [
        "## <font color=#46769B>Goal</font>\n",
        "\n",
        "The task for this Exercise is to use __importance sampling__ to study the probability distribution function $P(E)$ given above.\n",
        "\n",
        "## <font color=#46769B>Part (a)</font>\n",
        "\n",
        "Choose a proposal distribution $Q(E)$ that you will sample from. You can choose anything you like, but ensure it has the following qualities:\n",
        "1. You are able to sample from it (using the inverse CDF method that you used in Exercises 4-6).\n",
        "2. $Q(E)$ cannot be zero for a value of $E$ where $P(E)$ is nonzero.\n",
        "3. As $E \\to \\infty$, $Q(E)$ should not go to zero *faster* than $P(E)$ goes to zero. That is, $$\\lim_{E \\to \\infty} Q(E)/P(E) > 0 \\, .$$\n",
        "\n",
        "Make a plot using `matplotlib.pyplot` that shows both your proposal distribution $Q(x)$ and your target distribution $P(E)$. It should be clear that all three aforementioned properties are satisfied.\n",
        "\n",
        "Note: for simplicity, please set $k_B T = 1$."
      ]
    },
    {
      "cell_type": "code",
      "execution_count": null,
      "metadata": {
        "id": "T8oH7Uyn9yGx"
      },
      "outputs": [],
      "source": [
        "import numpy as np\n",
        "import matplotlib.pyplot as plt\n",
        "\n",
        "A = 0.415954\n",
        "\n",
        "# Your code here\n",
        "def Q(E): \n",
        "  return ((E**2)*(np.exp(E))**-1)\n",
        "E_samples = np.random.normal(Q(E))    \n",
        "def Q_int(E) : \n",
        "  return (((-E**2)+2*(-E-1))/np.exp(E))+2\n",
        "\n",
        "def P(E):\n",
        " return (((A*(E**2))/(1)**3)*(np.exp(E*1)-1)**-1)\n",
        "\n",
        "plt.hist(P(E),label ='P(E)',bin=40)\n",
        "plt.legend ()\n",
        "plt.show()\n",
        "plt.hist(Q(E),bin=40)\n"
      ]
    },
    {
      "cell_type": "markdown",
      "metadata": {
        "id": "qT-azzUw9yGy"
      },
      "source": [
        "## <font color=#46769B>Part (b)</font>\n",
        "\n",
        "Follow these steps to make a histogram of energies $E$ that will reproduce the target distribution $P(E)$:\n",
        "- Write a function `sample_E_from_Q(num)` that returns `num` random samples for $E$ that are drawn from the proposal distribution $Q(E)$.\n",
        "- Write another function `compute_weights(E_samples)` that takes as input your samples for $E$ and returns the corresponding weights.\n",
        "\n",
        "For $N = 10^6$, make the following plots:\n",
        "- Make an *unweighted* histogram of your samples for $E$ and compare to your proposal distribution $Q(E)$.\n",
        "- Make *weighted* histogram of your samples for $E$ and compare to the target distribution $P(E)$.\n"
      ]
    },
    {
      "cell_type": "code",
      "execution_count": null,
      "metadata": {
        "id": "FaY0CKSG9yGy"
      },
      "outputs": [],
      "source": [
        "N=10**6\n",
        "def Weight = E_samples from Q(E)/E_samples from P(E)\n",
        "def sample_E_from_Q(num)\n"
      ]
    },
    {
      "cell_type": "markdown",
      "metadata": {
        "id": "wlErXWjw9yGz"
      },
      "source": [
        "## <font color=#46769B>Part (c)</font>\n",
        "\n",
        "The task here is to compute the mean energy $\\mu$ and standard deviation $\\sigma$ for $P(E)$.\n",
        "With importance sampling, you will have to compute these quantities as weighted sums, as described in the Lesson 4.\n",
        "\n",
        "Write *your own code* to calculate the mean $\\langle E \\rangle$ and standard deviation $\\Delta E$ for the target distribution $P(x)$ using $N=10^6$ samples for $E$ from the proposal distribution. Just to make things difficult for you, you may *not* use any `numpy` functions except for `numpy.sqrt`.\n",
        "\n",
        "Note: I provided my own versions of these functions in Lesson 4. Feel free to use these to check your results (and see if your code runs faster or slower than mine).\n",
        "\n",
        "What are your values for $\\langle E \\rangle$ and $\\Delta E$?\n",
        "\n"
      ]
    },
    {
      "cell_type": "code",
      "execution_count": null,
      "metadata": {
        "id": "FmNco_759yGz"
      },
      "outputs": [],
      "source": [
        "# Your code here\n",
        "\n"
      ]
    },
    {
      "cell_type": "code",
      "execution_count": null,
      "metadata": {
        "id": "4B5BnETK9yGz"
      },
      "outputs": [],
      "source": [
        ""
      ]
    }
  ],
  "metadata": {
    "kernelspec": {
      "display_name": "Python 3",
      "language": "python",
      "name": "python3"
    },
    "language_info": {
      "codemirror_mode": {
        "name": "ipython",
        "version": 3
      },
      "file_extension": ".py",
      "mimetype": "text/x-python",
      "name": "python",
      "nbconvert_exporter": "python",
      "pygments_lexer": "ipython3",
      "version": "3.7.6"
    },
    "colab": {
      "name": "Exercise 7 - Bose-Einstein.ipynb",
      "provenance": []
    }
  },
  "nbformat": 4,
  "nbformat_minor": 0
}