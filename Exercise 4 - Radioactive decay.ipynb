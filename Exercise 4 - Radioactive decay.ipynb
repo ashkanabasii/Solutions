{
  "cells": [
    {
      "cell_type": "markdown",
      "metadata": {
        "id": "piP0D4QhY3Yf"
      },
      "source": [
        "__Your name here__\n",
        "<br>\n",
        "Date: Jan. 19, 2021\n",
        "<br>\n",
        "PHYS 2030 W22"
      ]
    },
    {
      "cell_type": "markdown",
      "metadata": {
        "id": "TpKOw0k4Y3Yg"
      },
      "source": [
        "# <center><font color=#46769B>Exercise 4: Radioactive decay</font></center>\n",
        "\n",
        "## <font color=#46769B>Introduction:</font>\n",
        "\n",
        "Our goals for this notebook are:\n",
        "- Make a simulation for \n",
        "\n",
        "Required reading:\n",
        "- *Lesson 3: Sampling from arbitrary distributions*"
      ]
    },
    {
      "cell_type": "markdown",
      "metadata": {
        "id": "Yzy5ypWzY3Yh"
      },
      "source": [
        "# <font color=#46769B>Exercise</font>\n",
        "\n",
        "## <font color=#46769B>Part (a)</font>\n",
        "\n",
        "Consider a radioactive isotope $A$, at $t=0$. We want to know the time $t$ for one atom to decay. \n",
        "Since radioactive decay is a random process, there is no way to know in advance $t$ for any one atom. \n",
        "We will treat $t$ as a variable that we will randomly sample from a PDF $P(t)$.\n",
        "\n",
        "The law of radioactive decay tells us that the *probability* of $A$ surviving until time $t$ is $e^{-t/\\tau_A}$, where $\\tau_A$ is the lifetime for its decay.\n",
        "Conversely, the probability for $A$ to decay *before* time $t$ is $(1-e^{-t/\\tau_A})$. The latter is nothing more than the CDF:\n",
        "$$ C(t) = \\left\\{ \\begin{array}{cc} 1 - e^{-t/\\tau_A} & {\\rm for} \\; t \\ge 0 \\\\\n",
        "0 & {\\rm otherwise} \\end{array} \\right.$$\n",
        "Since $P(t) = dC/dt$, we now have the PDF:\n",
        "$$ P(t) = \\left\\{ \\begin{array}{cc} \\frac{1}{\\tau_A} e^{-t/\\tau_A} & {\\rm for} \\; t \\ge 0 \\\\\n",
        "0 & {\\rm otherwise} \\end{array} \\right. \\, ,$$\n",
        "which you can verify has the correct normalization.\n",
        "\n",
        "Setting $\\tau_A = 10$ (e.g., 10 hours), complete the following:\n",
        "- Write a code `sample_t_A(num)` that will draw `num` random samples for $t$ from $P(t)$ defined above and return a `numpy.array` of length `num` with your list of times $t$.\n",
        "- Determine the half-life $t_{1/2}$ from the 50\\% quantile from your sample.\n",
        "- Determine the time it takes for 99.9\\% of $A$ to decay away by determining the 99.9\\% quantile for your sample.\n",
        "\n",
        "For the last two parts, be sure that $N$ is large enough so that you find consistent results when you perform multiple simulations."
      ]
    },
    {
      "cell_type": "code",
      "execution_count": null,
      "metadata": {
        "id": "5s1VKHntY3Yh"
      },
      "outputs": [],
      "source": [
        "import numpy as np\n",
        "\n",
        "tau_A = 10\n",
        "options = [0,1]\n",
        "num=10000\n",
        "def sample_t_A(num):\n",
        "\n",
        "t = np.random.rand(num)\n",
        "t_1/2 = 1/2 \n",
        "PDF = (1/tau_A)*np.exp(-t/tau_A)\n",
        "CDF = 1-np.exp(-t/tau_A)\n",
        "    # Write your code here\n",
        "    \n",
        "    return\n",
        "    \n",
        "    "
      ]
    },
    {
      "cell_type": "markdown",
      "metadata": {
        "id": "yFb-vTymY3Yi"
      },
      "source": [
        "## <font color=#46769B>Part (b)</font>\n",
        "\n",
        "Consider a more complicated chain of decays:\n",
        "\n",
        "<div>\n",
        "<img src=\"https://github.com/PHYS-2030-Computational-Methods/Lecture-notes/raw/main/ABC_decay.png\" width=\"200\"/>\n",
        "</div>\n",
        "\n",
        "Isotope $A$, with lifetime $\\tau_A = 10$, decays into isotope $B$ 83\\% of the time and into isotope $C$ 17\\% of the time.\n",
        "Isotopes $B$ and $C$ are themselves radioactive, decaying with lifetimes $\\tau_B = 2$ and $\\tau_C=30$, respectively, into stable isotopes.\n",
        "\n",
        "Starting with isotope $A$ at $t=0$, generate $N$ random samples for the *total* time to decay to a stable isotope. Using `numpy.quantile`, determine the following:\n",
        "- Determine the total half-life $t_{1/2}$ for all radioactive isotopes to decay away.\n",
        "- Determine the time it takes for 99.9\\% of all radioactive isotopes to decay away.\n",
        "\n",
        "Choose $N$ large enough so that your results are consistent for multiple simulations.\n",
        "\n",
        "### <font color=#46769B>Hint:</font>\n",
        "\n",
        "The total time is\n",
        "$$ t_{\\rm tot} = \\left\\{ \\begin{array}{cc} t_A + t_B & {\\rm 83\\% \\; of\\; the\\; time} \\\\ \n",
        "t_A + t_C & {\\rm 17\\% \\; of\\; the\\; time} \\end{array} \\right. \\, ,$$\n",
        "where $t_A$ is the time for $A$ to decay from part (a), and $t_B$ and $t_C$ are the times for $B$ and $C$ to decay.\n",
        "So, the logic is as follows:\n",
        "- Randomly sample $t_A$ as in part (a).\n",
        "- Randomly sample from a discrete choice: does $A \\to B$ or $B \\to C$?\n",
        "- Randomly sample *either* $t_B$ or $t_C$ (depending on which decay occurs), as in part (a) but using the appropriate lifetime $\\tau_B$ or $\\tau_C$.\n",
        "- Compute $t_{\\rm tot} = t_A + t_B$ or $t_A + t_C$ (depending on which decay occurs).\n",
        "\n",
        "That is __one__ sample. Repeat $N$ times do generate $N$ samples.\n",
        "\n"
      ]
    },
    {
      "cell_type": "code",
      "execution_count": null,
      "metadata": {
        "id": "K9rlsySHY3Yj"
      },
      "outputs": [],
      "source": [
        "# Your code here"
      ]
    }
  ],
  "metadata": {
    "kernelspec": {
      "display_name": "Python 3",
      "language": "python",
      "name": "python3"
    },
    "language_info": {
      "codemirror_mode": {
        "name": "ipython",
        "version": 3
      },
      "file_extension": ".py",
      "mimetype": "text/x-python",
      "name": "python",
      "nbconvert_exporter": "python",
      "pygments_lexer": "ipython3",
      "version": "3.7.6"
    },
    "colab": {
      "name": "Exercise 4 - Radioactive decay.ipynb",
      "provenance": []
    }
  },
  "nbformat": 4,
  "nbformat_minor": 0
}