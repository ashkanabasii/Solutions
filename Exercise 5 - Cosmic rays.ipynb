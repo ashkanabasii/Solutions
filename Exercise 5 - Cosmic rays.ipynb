{
  "cells": [
    {
      "cell_type": "markdown",
      "metadata": {
        "id": "-0y9lfrlTmhK"
      },
      "source": [
        "__Ayman Saad__\n",
        "<br>\n",
        "Date: Jan. 21, 2021\n",
        "<br>\n",
        "PHYS 2030 W22"
      ]
    },
    {
      "cell_type": "markdown",
      "metadata": {
        "id": "_T-yVRZMTmhN"
      },
      "source": [
        "# <center><font color=#46769B>Exercise 5: Cosmic rays</font></center>\n",
        "\n",
        "## <font color=#46769B>Introduction:</font>\n",
        "\n",
        "Our goals for this notebook are:\n",
        "- Make a simulation for the angle of cosmic rays when hitting the Earth.\n",
        "\n",
        "Required reading:\n",
        "- *Lesson 3: Sampling from arbitrary distributions*"
      ]
    },
    {
      "cell_type": "markdown",
      "metadata": {
        "id": "vjzxc5KKTmhO"
      },
      "source": [
        "## <font color=#46769B>Cosmic rays:</font>\n",
        "\n",
        "Cosmic rays are high-energy protons and heavier elements accelerated in stars and other astronomical environments that ultimately smash into Earth's atmosphere. These collisions produce showers of particles.\n",
        "\n",
        "<div>\n",
        "<img src=\"https://cdn.mos.cms.futurecdn.net/JZG8KC9eZovtTaXkvbbdiX-1024-80.jpg.webp\" width=\"400\">\n",
        "</div>\n",
        "\n",
        "Figure credit: [space.com](https://www.space.com/32644-cosmic-rays.html)\n",
        "\n",
        "## <font color=#46769B>Goal:</font>\n",
        "\n",
        "Suppose cosmic rays are isotropic and homogenous in our local galactic neighborhood. They are likely to hit the Earth from any direction and at any position. When a cosmic ray hits the Earth, it will have an angle $\\theta$ with respect to the atmosphere, shown in the Figure here.\n",
        "\n",
        "<div>\n",
        "<img src=\"https://github.com/PHYS-2030-Computational-Methods/Lecture-notes/raw/main/figures/cosmic_rays.png\" width=\"500\">\n",
        "</div>\n",
        "\n",
        "The goal here is figure out what is the probability distribution function for $\\theta$. (All values of $\\theta$ are *not* equally likely.) We will solve this problem two ways and show that they agree."
      ]
    },
    {
      "cell_type": "markdown",
      "metadata": {
        "id": "UmKSfwkSTmhO"
      },
      "source": [
        "# <font color=#46769B>Exercise</font>\n",
        "\n",
        "The Earth is (approximately) a sphere of radius $R$. Since the cross sectional area of a sphere is a circle, to a cosmic ray, the Earth looks like a dart board.\n",
        "\n",
        "<div>\n",
        "<img src=\"https://upload.wikimedia.org/wikipedia/commons/f/fb/Darts_in_a_dartboard.jpg\" width=\"400\">\n",
        "</div>\n",
        "\n",
        "Here is another picture to have in mind. Without loss of generality, we orient our coordinate frame so the cosmic ray is pointing down.\n",
        "\n",
        "<div>\n",
        "<img src=\"https://github.com/PHYS-2030-Computational-Methods/Lecture-notes/raw/main/figures/cosmic-ray-fig-2.png\" width=\"800\">\n",
        "</div>\n",
        "\n",
        "The cosmic ray hits a sphere, the Earth __(a)__. In projection, this looks like a circle __(b)__. Let's suppose the radius $s$ is the location where the cosmic ray hits the circular cross section of the Earth. (Note: $s \\le R$, where $R$ is the radius of the earth.) Once we know $s$, we can figure out the angle the cosmic ray makes with some trigonometry __(c)__:\n",
        "$$\\sin\\theta = s/R \\, .$$\n",
        "\n",
        "What is the probability of landing on a particular value of $s$? We need to know the PDF $P(s)$.\n",
        "\n",
        "Note $P(s) ds$ is the probability of landing between $s$ and $s+ds$. This is\n",
        "$$ P(s) \\, ds = \\frac{2 \\pi s \\, ds}{\\pi R^2}$$\n",
        "where the numerator is the area of a ring of radius $s$ and thickness $ds$, and the denominator is the area $\\pi R^2$ of the entire circle.\n",
        "The PDF is therefore\n",
        "$$P(s) = \\left\\{ \\begin{array}{cc} \\frac{2 s}{R^2} & {\\rm for} \\; 0 \\le s \\le R \\\\ 0 & {\\rm otherwise} \\end{array} \\right. \\, .\\qquad {\\rm (1)}$$ \n",
        "\n",
        "\n",
        "## <font color=#46769B>Part (a)</font> \n",
        "\n",
        "Perform a simulation generating $N=10^6$ random samples for $\\theta$ by sampling $s$ from $P(s)$ in Eq. (1). Here are the steps:\n",
        "- Determine (analytically) the CDF $C(s)$ corresponding to the PDF $P(s)$. \n",
        "- Analytically solve the equation $r = C(s)$ to determine the inverse CDF, $C^{-1}$.\n",
        "- Write a function `sample_s(num)` that will draw `num` random samples for $s$ from $P(s)$. (You compute $N$ random numbers $r$ in the domain $[0,1]$ and set $s=C^{-1}(r)$).\n",
        "- For each $s$ in your sample, compute $\\theta = \\sin^{-1}(s/R)$ to obtain a sample for $\\theta$.\n",
        "\n",
        "Make a histogram plot for your $\\theta$ samples.\n",
        "\n",
        "### <font color=#46769B>Hint:</font> \n",
        "\n",
        "You can work in units of \"Earth radii\" setting $R=1$."
      ]
    },
    {
      "cell_type": "code",
      "execution_count": 17,
      "metadata": {
        "id": "G-i80RprTmhP",
        "outputId": "eb25d62a-24ec-496f-b71a-bfcf41375e67",
        "colab": {
          "base_uri": "https://localhost:8080/",
          "height": 604
        }
      },
      "outputs": [
        {
          "output_type": "error",
          "ename": "NameError",
          "evalue": "ignored",
          "traceback": [
            "\u001b[0;31m---------------------------------------------------------------------------\u001b[0m",
            "\u001b[0;31mNameError\u001b[0m                                 Traceback (most recent call last)",
            "\u001b[0;32m<ipython-input-17-45c2592db4e7>\u001b[0m in \u001b[0;36m<module>\u001b[0;34m()\u001b[0m\n\u001b[1;32m     27\u001b[0m  \u001b[0mplt_hist\u001b[0m\u001b[0;34m(\u001b[0m\u001b[0ms_samp\u001b[0m\u001b[0;34m,\u001b[0m\u001b[0mbins\u001b[0m\u001b[0;34m=\u001b[0m\u001b[0;36m20\u001b[0m\u001b[0;34m,\u001b[0m\u001b[0mdensity\u001b[0m\u001b[0;34m=\u001b[0m\u001b[0;32mTrue\u001b[0m\u001b[0;34m,\u001b[0m\u001b[0mlabel\u001b[0m\u001b[0;34m=\u001b[0m\u001b[0;34m'samples'\u001b[0m\u001b[0;34m)\u001b[0m\u001b[0;34m\u001b[0m\u001b[0;34m\u001b[0m\u001b[0m\n\u001b[1;32m     28\u001b[0m \u001b[0;34m\u001b[0m\u001b[0m\n\u001b[0;32m---> 29\u001b[0;31m \u001b[0msample_s\u001b[0m\u001b[0;34m(\u001b[0m\u001b[0mN\u001b[0m\u001b[0;34m)\u001b[0m\u001b[0;34m\u001b[0m\u001b[0;34m\u001b[0m\u001b[0m\n\u001b[0m\u001b[1;32m     30\u001b[0m \u001b[0ms\u001b[0m\u001b[0;34m=\u001b[0m\u001b[0mnp\u001b[0m\u001b[0;34m.\u001b[0m\u001b[0mlinspace\u001b[0m\u001b[0;34m\u001b[0m\u001b[0;34m\u001b[0m\u001b[0m\n\u001b[1;32m     31\u001b[0m \u001b[0mPDF\u001b[0m\u001b[0;34m=\u001b[0m \u001b[0;34m(\u001b[0m\u001b[0;34m(\u001b[0m\u001b[0;36m2\u001b[0m\u001b[0;34m*\u001b[0m\u001b[0ms\u001b[0m\u001b[0;34m)\u001b[0m\u001b[0;34m)\u001b[0m\u001b[0;34m/\u001b[0m\u001b[0;34m(\u001b[0m\u001b[0mR\u001b[0m\u001b[0;34m**\u001b[0m\u001b[0;36m2\u001b[0m\u001b[0;34m)\u001b[0m\u001b[0;34m\u001b[0m\u001b[0;34m\u001b[0m\u001b[0m\n",
            "\u001b[0;32m<ipython-input-17-45c2592db4e7>\u001b[0m in \u001b[0;36msample_s\u001b[0;34m(N)\u001b[0m\n\u001b[1;32m     25\u001b[0m \u001b[0;32mdef\u001b[0m \u001b[0msample_s\u001b[0m\u001b[0;34m(\u001b[0m\u001b[0mN\u001b[0m\u001b[0;34m)\u001b[0m\u001b[0;34m:\u001b[0m\u001b[0;34m\u001b[0m\u001b[0;34m\u001b[0m\u001b[0m\n\u001b[1;32m     26\u001b[0m  \u001b[0ms_samp\u001b[0m\u001b[0;34m=\u001b[0m \u001b[0;34m(\u001b[0m\u001b[0mr\u001b[0m\u001b[0;34m*\u001b[0m\u001b[0;34m(\u001b[0m\u001b[0mR\u001b[0m\u001b[0;34m**\u001b[0m\u001b[0;36m2\u001b[0m\u001b[0;34m)\u001b[0m\u001b[0;34m)\u001b[0m\u001b[0;34m**\u001b[0m\u001b[0;34m(\u001b[0m\u001b[0;36m1\u001b[0m\u001b[0;34m/\u001b[0m\u001b[0;36m2\u001b[0m\u001b[0;34m)\u001b[0m\u001b[0;34m\u001b[0m\u001b[0;34m\u001b[0m\u001b[0m\n\u001b[0;32m---> 27\u001b[0;31m  \u001b[0mplt_hist\u001b[0m\u001b[0;34m(\u001b[0m\u001b[0ms_samp\u001b[0m\u001b[0;34m,\u001b[0m\u001b[0mbins\u001b[0m\u001b[0;34m=\u001b[0m\u001b[0;36m20\u001b[0m\u001b[0;34m,\u001b[0m\u001b[0mdensity\u001b[0m\u001b[0;34m=\u001b[0m\u001b[0;32mTrue\u001b[0m\u001b[0;34m,\u001b[0m\u001b[0mlabel\u001b[0m\u001b[0;34m=\u001b[0m\u001b[0;34m'samples'\u001b[0m\u001b[0;34m)\u001b[0m\u001b[0;34m\u001b[0m\u001b[0;34m\u001b[0m\u001b[0m\n\u001b[0m\u001b[1;32m     28\u001b[0m \u001b[0;34m\u001b[0m\u001b[0m\n\u001b[1;32m     29\u001b[0m \u001b[0msample_s\u001b[0m\u001b[0;34m(\u001b[0m\u001b[0mN\u001b[0m\u001b[0;34m)\u001b[0m\u001b[0;34m\u001b[0m\u001b[0;34m\u001b[0m\u001b[0m\n",
            "\u001b[0;31mNameError\u001b[0m: name 'plt_hist' is not defined"
          ]
        },
        {
          "output_type": "display_data",
          "data": {
            "image/png": "[encoded data removed]",
            "text/plain": [
              "<Figure size 432x288 with 1 Axes>"
            ]
          },
          "metadata": {
            "needs_background": "light"
          }
        }
      ],
      "source": [
        "import numpy as np\n",
        "import matplotlib.pyplot as plt\n",
        "\n",
        "R=1\n",
        "N=10**6\n",
        "s=np.linspace(-2,2,num=1000)\n",
        "PDF = np.zeros_like(s)\n",
        "CDF = np.zeros_like(s)\n",
        "r=np.zeros_like(s)\n",
        "\n",
        "\n",
        "for i in range(len(s)):\n",
        "  if(s[i]>0 ) and (s[i]<R):\n",
        "    PDF[i]=(2*(s[i]))/(R**2)\n",
        "    CDF[i]=((s[i])**2)/(R**2)\n",
        "  elif s[i]>R:\n",
        "    CDF[i]=1\n",
        "    y[i]=1\n",
        "\n",
        "plt.plot(s,PDF,label='PDF')\n",
        "plt.plot(s,CDF,'--',label='CDF')\n",
        "plt.plot(s,r,label='y')\n",
        "\n",
        "r = np.random.rand(N)\n",
        "def sample_s(N):\n",
        " s_samp= (r*(R**2))**(1/2)\n",
        " plt_hist(s_samp,bins=20,density=True,label='samples')\n",
        "\n",
        "sample_s(N)\n",
        "s=np.linspace\n",
        "PDF= ((2*s))/(R**2)\n",
        "plt.plot(s,pdf,label='PDF')\n",
        "\n",
        "s_inverted = ((((r)**2)/(R**2))*(R**2))**(1/2)\n",
        "theta=np.arcsin((s_inverted)/R)"
      ]
    },
    {
      "cell_type": "markdown",
      "metadata": {
        "id": "IcM7Z9MZTmhQ"
      },
      "source": [
        "## <font color=#46769B>Chain rule for PDFs</font>\n",
        "\n",
        "Next, we will obtain $P(\\theta)$ directly and sample from that. First, let me clarify the notation a bit. Every variable has *its own* PDF. So, I should write $P_s(s)$ for the PDF for $s$ (given above) and $P_\\theta(\\theta)$ will be the PDF for $\\theta$ that I will derive now.\n",
        "\n",
        "This is just to clarify that $P_s$ is a completely different function than $P_\\theta$. They are related by the chain rule.\n",
        "\n",
        "The key idea is that probabilities (not the PDFs) should be invariant no matter what variables I use. If a cosmic ray hits a certain patch of sky 5\\% of the time, it doesn't matter if I describe that patch in terms of $s$ or $\\theta$. This idea is written formally as \n",
        "$$P_s(s) \\, ds = P_\\theta(\\theta) \\, d\\theta \\, ,$$\n",
        "which says that the probability of being within the window $[s,s+ds]$ is equal to the probability of being within the window $[\\theta,\\theta+d\\theta]$.\n",
        "Rearranging this equation, we have\n",
        "$$P_\\theta(\\theta) = P_s(s) \\, \\frac{ds}{d\\theta}\\, .$$\n",
        "Plugging in $P_s(s)$, and using the facts that $s=R \\sin\\theta$ and $ds/d\\theta = R \\cos\\theta$, we have\n",
        "$$P_\\theta(\\theta) = \\left\\{ \\begin{array}{cc} \\sin 2\\theta & {\\rm for} \\; 0 \\le \\theta \\le \\frac{\\pi}{2} \\\\ \n",
        "0 & {\\rm otherwise} \\end{array} \\right. \\, . \\qquad {\\rm (2)}$$\n",
        "\n",
        "## <font color=#46769B>Part (b)</font>\n",
        "\n",
        "Perform a simulation generating $N=10^6$ random samples for $\\theta$ by sampling $\\theta$ from $P_\\theta(\\theta)$ in Eq. (2). Here are the steps:\n",
        "- Determine (analytically) the CDF $C_\\theta(\\theta)$ corresponding to the PDF $P_\\theta(\\theta)$. \n",
        "- Analytically solve the equation $r = C_\\theta(\\theta)$ to determine the inverse CDF, $C_\\theta^{-1}$.\n",
        "- Write a function `sample_theta(num)` that will draw `num` random samples for $\\theta$ from $P_\\theta(\\theta)$.\n",
        "\n",
        "Make a histogram plot for your $\\theta$ samples.\n",
        "\n",
        "Compare your histogram for parts (a) and (b) and a plot of the curve for $P_\\theta(\\theta)$. (Make one figure with everything in it.) Everything should agree!\n",
        "\n",
        "\n",
        "\n"
      ]
    },
    {
      "cell_type": "code",
      "execution_count": null,
      "metadata": {
        "id": "RWDEah5RTmhR"
      },
      "outputs": [],
      "source": [
        "# Your code here"
      ]
    }
  ],
  "metadata": {
    "kernelspec": {
      "display_name": "Python 3",
      "language": "python",
      "name": "python3"
    },
    "language_info": {
      "codemirror_mode": {
        "name": "ipython",
        "version": 3
      },
      "file_extension": ".py",
      "mimetype": "text/x-python",
      "name": "python",
      "nbconvert_exporter": "python",
      "pygments_lexer": "ipython3",
      "version": "3.7.6"
    },
    "colab": {
      "name": "Exercise 5 - Cosmic rays.ipynb",
      "provenance": []
    }
  },
  "nbformat": 4,
  "nbformat_minor": 0
}