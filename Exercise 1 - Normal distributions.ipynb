{
 "cells": [
  {
   "cell_type": "markdown",
   "metadata": {},
   "source": [
    "__Sean Tulin__\n",
    "<br>\n",
    "Date: Jan. 12, 2021\n",
    "<br>\n",
    "PHYS 2030 W22"
   ]
  },
  {
   "cell_type": "markdown",
   "metadata": {},
   "source": [
    "# <center><font color=#46769B>Exercise 1: Error propagation via random sampling</font></center>\n",
    "\n",
    "## <font color=#46769B>Introduction:</font>\n",
    "\n",
    "Our goals for this notebook are:\n",
    "- Practice with sampling from normal distributions.\n",
    "- Practice some basics of using `numpy` and `matplotlib.pyplot`.\n",
    "- Learn a new technique for propagation of errors.\n",
    "\n",
    "Required reading:\n",
    "- *Lesson 1: Normal distributions*"
   ]
  },
  {
   "cell_type": "markdown",
   "metadata": {},
   "source": [
    "## <font color=#46769B>Error propagation:</font>\n",
    "\n",
    "In lab courses, it is standard practice to do error propagation. For example, suppose you have two measured quantities $A,B$. That is, you have their mean values $\\langle A \\rangle$, $\\langle B\\rangle$, and their uncertainties $\\Delta A,\\Delta B$. \n",
    "Now suppose you want to calculate the mean and error for a new quantity $C = f(A,B)$ that is a function of $A,B$. What do you do?\n",
    "- Take the mean to be $\\langle C \\rangle = f(\\langle A \\rangle, \\langle B \\rangle)$. But you may wonder: is this an approximation or is it always true? \n",
    "- Calculate the error $\\Delta C$ using the rules for error propagation. How straightforward this is depends on how complex $f$ is (and how well one remembers the rules).\n",
    "\n",
    "Random sampling is another way to approach this problem. There is just one procedure to remember.\n",
    "- Generate random samples for $A$ and $B$. That is, you generate a list of $N$ values for each quantity<font color=red>$^1$</font>\n",
    "$$\\left(A_0, A_1, ..., A_{N-1}\\right) \\, ,  \\qquad \\left(B_0, B_1, ..., B_{N-1}\\right)\\, .$$\n",
    "- For every pair $A_i, B_i$, compute $C_i = f(A_i, B_i)$ to generate samples for $C$:\n",
    "$$\\left(C_0, C_1, ..., C_{N-1}\\right)\\, .$$\n",
    "- Using your samples for $C$, calculate the mean value $\\langle C \\rangle$ and standard deviation for $\\Delta C$.\n",
    "\n",
    "There are two things to keep in mind:\n",
    "- $N$ must be large enough so that your values for $\\langle C \\rangle$ and $\\Delta C$ converge, i.e., you get the same result (up to significant figures) for multiple simulations.\n",
    "- How you sample quantities $A,B$ is up to you. A normal distribution is typically *default* assumption for how to sample, especially if the errors quoted for $A,B$ are *random* or *statitistical* errors.<font color=red>$^2$</font> But you can sample in a different way if you have more information about the problem, or if you want to include systematic errors (we will see an example below).\n",
    "\n",
    "### <font color=#46769B>Footnotes:</font>\n",
    "\n",
    "<font color=red>$^1$</font> Note since Python counting starts at zero, I will follow the same numbering conventions though it looks a bit messier.\n",
    "\n",
    "<font color=red>$^2$</font> *Random* errors are due to the fact that repeated measurements will not give exactly the same results each time, due to unpredictable differences in the measurement setup or observer. This is why one performs multiple measurements and averages over them. For example, you measure a length with a ruler and get ten slightly different numbers each time. In contrast, *systematic* errors are errors that are the same for all measurements. For example, suppose your ruler is of poor quality and all lengths skewed too short by 5\\%.\n"
   ]
  },
  {
   "cell_type": "markdown",
   "metadata": {},
   "source": [
    "## <font color=#46769B>Part 1: Pendulum</font>\n",
    "\n",
    "The standard formula for the oscillation period of a pendulum is\n",
    "$$T = 2\\pi \\sqrt{L/g}$$\n",
    "where $g$ is the gravitational acceleration and $L$ is the length of the pendulum. Suppose we have measured the period and length of the pendulum to be:\n",
    "$$T = 1.835 \\pm 0.005 \\; {\\rm s} \\, , \\qquad L = 0.855 \\pm 0.002 \\; {\\rm m} \\, .$$\n",
    "\n",
    "### <font color=#46769B>Part (1a)</font>\n",
    "Using random sampling for $T$ and $L$, determine $g$, with a sample size of $N=100$.\n",
    "- Assume the errors quoted for $T$ and $L$ are random errors and generate samples using a normal distribution.\n",
    "- Determine both the mean $\\langle g \\rangle$ and uncertainty $\\Delta g$. Write *your own* code for calculating the mean and standard deviations for your samples for $g$ and verify that it agrees with what you get using `numpy.mean` and `numpy.std`.\n",
    "- Plot a histogram for your samples for $g$.\n",
    "\n",
    "### <font color=#46769B>Part (1b)</font>\n",
    "- Repeat part (a) for a larger value of $N$ where your results have converged.\n",
    "- Compare your histogram for $g$ to a normal distribution of mean $\\mu=\\langle g \\rangle$ and standard deviation $\\sigma = \\Delta g$. (Make a plot of the normal distribution on top of the histogram.)"
   ]
  },
  {
   "cell_type": "markdown",
   "metadata": {},
   "source": [
    "### <font color='darkred'>Solution to part (1a):</font>\n",
    "\n",
    "<font color='darkred'>Here is the short version. For a step-by-step solution, which each step explained, see below.</font>"
   ]
  },
  {
   "cell_type": "code",
   "execution_count": 1,
   "metadata": {},
   "outputs": [
    {
     "name": "stdout",
     "output_type": "stream",
     "text": [
      "my mean and std dev are: 10.017596823532067 0.06570593968765785\n",
      "numpy mean and std dev are: 10.017596823532068 0.06570593968760668\n"
     ]
    },
    {
     "data": {
      "image/png": "[encoded data removed]",
      "text/plain": [
       "<Figure size 432x288 with 1 Axes>"
      ]
     },
     "metadata": {
      "needs_background": "light"
     },
     "output_type": "display_data"
    }
   ],
   "source": [
    "import numpy as np\n",
    "import matplotlib.pyplot as plt\n",
    "\n",
    "# Generate num samples for L and T\n",
    "num = 100\n",
    "L_arr = np.random.normal(0.855,0.002,num)\n",
    "T_arr = np.random.normal(1.835,0.005,num)\n",
    "\n",
    "# Compute samples for g\n",
    "g_arr = 4*np.pi**2 * L_arr/T_arr**2\n",
    "\n",
    "# Comute mean and std dev (using my own code)\n",
    "mymean = sum(g_arr)/num\n",
    "mystd = np.sqrt(sum(g_arr**2 - mymean**2)/num)\n",
    "\n",
    "print(\"my mean and std dev are:\", mymean, mystd)\n",
    "\n",
    "# Compute mean and std dev using numpy built-in functions\n",
    "print(\"numpy mean and std dev are:\", np.mean(g_arr), np.std(g_arr))\n",
    "\n",
    "# Make histogram (default 10 bins looks fine)\n",
    "plt.hist(g_arr)\n",
    "plt.show()"
   ]
  },
  {
   "cell_type": "markdown",
   "metadata": {},
   "source": [
    "### <font color='darkred'>Solution to part (1a) step-by-step:</font>\n",
    "\n",
    "<font color='darkred'>Step 1: Generate samples for $T$ and $L$. Here I print them out so you can see what you got.</font>"
   ]
  },
  {
   "cell_type": "code",
   "execution_count": 2,
   "metadata": {},
   "outputs": [
    {
     "name": "stdout",
     "output_type": "stream",
     "text": [
      "Samples for L are: [0.85770523 0.8556576  0.85537734 0.85715071 0.85378885 0.85684318\n",
      " 0.84948028 0.85622383 0.85864049 0.8562707  0.85264056 0.85402451\n",
      " 0.85392003 0.85702899 0.85136322 0.85593354 0.85651281 0.85484992\n",
      " 0.85479673 0.85481153 0.85492491 0.85146533 0.85259659 0.85495497\n",
      " 0.85650188 0.85977411 0.85423616 0.85471674 0.85351034 0.85400939\n",
      " 0.85381786 0.85580936 0.85495126 0.85500695 0.85645412 0.85914089\n",
      " 0.85785237 0.854865   0.8588002  0.85636433 0.85472448 0.85196707\n",
      " 0.85766764 0.85496002 0.85149801 0.85671694 0.85525233 0.85804624\n",
      " 0.85520608 0.85530641 0.85679285 0.85377228 0.85458405 0.85328688\n",
      " 0.85194124 0.85564168 0.85354236 0.85580865 0.8548511  0.85385342\n",
      " 0.85743161 0.85359935 0.85529417 0.85057511 0.85481531 0.85345824\n",
      " 0.85589922 0.85829466 0.86004105 0.8564263  0.85597123 0.85592177\n",
      " 0.85315831 0.85256019 0.8549914  0.85272141 0.8556454  0.85440169\n",
      " 0.85454861 0.85721229 0.85518268 0.85526374 0.85467504 0.85186705\n",
      " 0.85309815 0.85594182 0.85468244 0.85430085 0.85467088 0.85252313\n",
      " 0.85796353 0.85086625 0.85316264 0.85424153 0.85741052 0.85750093\n",
      " 0.85589484 0.85718758 0.85745009 0.85009142]\n",
      "Samples for T are: [1.83395311 1.83902719 1.83070663 1.83050713 1.83593308 1.83503224\n",
      " 1.82816545 1.83879639 1.83535153 1.83137986 1.83795153 1.83691204\n",
      " 1.84244657 1.8374719  1.84194296 1.84153015 1.83866537 1.83275816\n",
      " 1.82612674 1.83521774 1.82870781 1.83272294 1.82881329 1.83778338\n",
      " 1.82546033 1.83311004 1.8352597  1.83653228 1.83020591 1.84026703\n",
      " 1.82889591 1.83561134 1.84492242 1.83400343 1.84015014 1.83791481\n",
      " 1.8328196  1.83199066 1.83889684 1.83262211 1.83475925 1.83815263\n",
      " 1.83726398 1.8307215  1.84629294 1.83565247 1.83969555 1.83304288\n",
      " 1.82659952 1.84156728 1.83794812 1.83006472 1.83632207 1.83628963\n",
      " 1.83665137 1.84227626 1.83443112 1.83591727 1.83158616 1.83971155\n",
      " 1.8378532  1.83852836 1.83901102 1.83195011 1.84187935 1.83702433\n",
      " 1.83467855 1.83664122 1.83639886 1.82945275 1.8297987  1.83082945\n",
      " 1.83495642 1.83328915 1.83088986 1.82941735 1.83349216 1.84929277\n",
      " 1.83390478 1.83674779 1.83019767 1.83423407 1.83623596 1.83530517\n",
      " 1.83438578 1.82905058 1.84228037 1.834925   1.8308914  1.83597114\n",
      " 1.83004598 1.83366593 1.83581493 1.83645799 1.83874883 1.8328494\n",
      " 1.83607028 1.8355101  1.83724537 1.83404492]\n"
     ]
    }
   ],
   "source": [
    "# Step 1: Generate N=100 samples for L and T\n",
    "\n",
    "import numpy as np\n",
    "import matplotlib.pyplot as plt\n",
    "\n",
    "# Generate num samples for L\n",
    "num = 100\n",
    "L_arr = np.random.normal(0.855,0.002,num)\n",
    "\n",
    "# Generate num samples for T\n",
    "T_arr = np.random.normal(1.835,0.005,num)\n",
    "\n",
    "print(\"Samples for L are:\", L_arr)\n",
    "\n",
    "print(\"Samples for T are:\", T_arr)"
   ]
  },
  {
   "cell_type": "markdown",
   "metadata": {},
   "source": [
    "<font color='darkred'>Step 2: Calculate samples for $g$.</font>\n",
    "\n",
    "<font color='darkred'>To be clear, the goal is to *measure $g$* from the data given. We hope to get an answer close to the known answer $g = 9.80665 \\; {\\rm m/s}^2$. Solving the formula above, we have \n",
    "$$ g = \\frac{4\\pi^2 L}{T^2}\\, .$$\n",
    "So, for every set of sample values $L_i$, $T_i$, we plug in to this formula to calculate $g_i$. We get $N=100$ values for $g$. [Note: `numpy` allows us to multiply (divide) `numpy.arrays'. This multiplies (divides) element-by-element.]\n",
    "</font>"
   ]
  },
  {
   "cell_type": "code",
   "execution_count": 3,
   "metadata": {},
   "outputs": [
    {
     "name": "stdout",
     "output_type": "stream",
     "text": [
      "Samples for g: [10.06749313  9.98811313 10.07580998 10.09890004  9.99991997 10.04554915\n",
      " 10.03418358  9.99723182 10.0631184  10.07891899  9.96454831  9.99202128\n",
      "  9.93086622 10.02106397  9.90654615  9.96419257 10.00203124 10.0470668\n",
      " 10.11953961 10.01970448 10.09250722 10.00767224 10.06386     9.99342459\n",
      " 10.14713074 10.10106187 10.01250239 10.0042564  10.05931981  9.95544539\n",
      " 10.07736508 10.02709895  9.91619088 10.03527074  9.98521267 10.04091692\n",
      " 10.08167868 10.05566415 10.02621793 10.06636013 10.02369189  9.95449887\n",
      " 10.03080159 10.07073057  9.86148134 10.0372829   9.97612968 10.08150071\n",
      " 10.11914542  9.95649055 10.013112   10.06395967 10.0049935   9.99015993\n",
      "  9.97047673  9.9527285  10.01340999 10.02374928 10.05994265  9.9596389\n",
      " 10.02161218  9.9694947   9.98404629 10.00564568  9.94740205  9.98417534\n",
      " 10.03835149 10.04494344 10.06803907 10.10199933 10.09281409 10.08087038\n",
      " 10.0031747  10.01435187 10.06924816 10.05868756 10.04836593  9.86303315\n",
      " 10.03097035 10.03111186 10.07912047 10.03576046 10.00699722  9.98423938\n",
      " 10.00869344 10.10072511  9.94152643 10.01691381 10.06545645  9.98468129\n",
      " 10.11357182  9.9903477   9.9938717   9.99950317 10.01160548 10.07722085\n",
      " 10.02308794 10.04435482 10.02846037  9.97712538]\n"
     ]
    }
   ],
   "source": [
    "# Step 2: Compute samples for g\n",
    "\n",
    "# Calculating samples for g with numpy\n",
    "g_arr = 4*np.pi**2 * L_arr/T_arr**2\n",
    "\n",
    "# Alternative code: calculating samples for g with a for loop\n",
    "# Un-comment the following three lines\n",
    "# g_arr = []\n",
    "# for i in range(num):\n",
    "#    g_arr.append(4*np.pi**2 * L_arr[i]/T_arr[i]**2)\n",
    "\n",
    "# Print the result\n",
    "print(\"Samples for g:\", g_arr)\n"
   ]
  },
  {
   "cell_type": "markdown",
   "metadata": {},
   "source": [
    "<font color='darkred'>Step 3: Calculate $\\langle g \\rangle$ and $\\Delta g$. First with my own code, then with the built-in numpy functions.</font>"
   ]
  },
  {
   "cell_type": "code",
   "execution_count": 4,
   "metadata": {},
   "outputs": [
    {
     "name": "stdout",
     "output_type": "stream",
     "text": [
      "10.022715011844824 0.053159062369943534\n",
      "10.022715011844824 0.05315906237015651\n"
     ]
    }
   ],
   "source": [
    "# My own code to calculate mean and standard deviation (std)\n",
    "mymean = sum(g_arr)/num\n",
    "\n",
    "diff = []\n",
    "for i in range(num):\n",
    "    diff.append(g_arr[i]**2 - mymean**2)\n",
    "mystd = np.sqrt(sum(diff)/num)\n",
    "\n",
    "print(mymean,mystd)\n",
    "\n",
    "# numpy result\n",
    "print(np.mean(g_arr),np.std(g_arr))"
   ]
  },
  {
   "cell_type": "markdown",
   "metadata": {},
   "source": [
    "<font color='darkred'>Step 4: Make a histogram of samples for $g$.</font>"
   ]
  },
  {
   "cell_type": "code",
   "execution_count": 5,
   "metadata": {},
   "outputs": [
    {
     "data": {
      "image/png": "[encoded data removed]",
      "text/plain": [
       "<Figure size 432x288 with 1 Axes>"
      ]
     },
     "metadata": {
      "needs_background": "light"
     },
     "output_type": "display_data"
    }
   ],
   "source": [
    "# Here is a histogram with the default settings\n",
    "plt.hist(g_arr)\n",
    "plt.show()"
   ]
  },
  {
   "cell_type": "markdown",
   "metadata": {},
   "source": [
    "<font color='darkred'>This default histogram (with 10 bins) looks good (in this default x range). You can experiment with different numbers of bins. I would say 5-20 range looks OK. Too few or too many bins, it is hard to see what is going on.</font>"
   ]
  },
  {
   "cell_type": "code",
   "execution_count": 6,
   "metadata": {},
   "outputs": [
    {
     "name": "stdout",
     "output_type": "stream",
     "text": [
      "2 bins\n"
     ]
    },
    {
     "data": {
      "image/png": "[encoded data removed]",
      "text/plain": [
       "<Figure size 432x288 with 1 Axes>"
      ]
     },
     "metadata": {
      "needs_background": "light"
     },
     "output_type": "display_data"
    },
    {
     "name": "stdout",
     "output_type": "stream",
     "text": [
      "5 bins\n"
     ]
    },
    {
     "data": {
      "image/png": "[encoded data removed]",
      "text/plain": [
       "<Figure size 432x288 with 1 Axes>"
      ]
     },
     "metadata": {
      "needs_background": "light"
     },
     "output_type": "display_data"
    },
    {
     "name": "stdout",
     "output_type": "stream",
     "text": [
      "10 bins (default)\n"
     ]
    },
    {
     "data": {
      "image/png": "[encoded data removed]",
      "text/plain": [
       "<Figure size 432x288 with 1 Axes>"
      ]
     },
     "metadata": {
      "needs_background": "light"
     },
     "output_type": "display_data"
    },
    {
     "name": "stdout",
     "output_type": "stream",
     "text": [
      "20 bins\n"
     ]
    },
    {
     "data": {
      "image/png": "[encoded data removed]",
      "text/plain": [
       "<Figure size 432x288 with 1 Axes>"
      ]
     },
     "metadata": {
      "needs_background": "light"
     },
     "output_type": "display_data"
    },
    {
     "name": "stdout",
     "output_type": "stream",
     "text": [
      "100 bins\n"
     ]
    },
    {
     "data": {
      "image/png": "[encoded data removed]",
      "text/plain": [
       "<Figure size 432x288 with 1 Axes>"
      ]
     },
     "metadata": {
      "needs_background": "light"
     },
     "output_type": "display_data"
    }
   ],
   "source": [
    "# Here are histograms with different numbers of bins\n",
    "\n",
    "print('2 bins')\n",
    "plt.hist(g_arr,bins=2)\n",
    "plt.show()\n",
    "\n",
    "print('5 bins')\n",
    "plt.hist(g_arr,bins=5)\n",
    "plt.show()\n",
    "\n",
    "print('10 bins (default)')\n",
    "plt.hist(g_arr,bins=10)\n",
    "plt.show()\n",
    "\n",
    "print('20 bins')\n",
    "plt.hist(g_arr,bins=20)\n",
    "plt.show()\n",
    "\n",
    "print('100 bins')\n",
    "plt.hist(g_arr,bins=100)\n",
    "plt.show()"
   ]
  },
  {
   "cell_type": "markdown",
   "metadata": {},
   "source": [
    "### <font color='darkred'>Solution to part (1b):</font>\n",
    "\n",
    "<font color='darkred'>Let's try running the above code 10 times with $N=100$.</font>"
   ]
  },
  {
   "cell_type": "code",
   "execution_count": 7,
   "metadata": {},
   "outputs": [
    {
     "name": "stdout",
     "output_type": "stream",
     "text": [
      "mean and std dev are: 10.034143318783709 0.06090514603933144\n",
      "mean and std dev are: 10.032776404783139 0.051150838040612115\n",
      "mean and std dev are: 10.024729720503327 0.05836419541580207\n",
      "mean and std dev are: 10.019372440040422 0.05996136300202784\n",
      "mean and std dev are: 10.03407977433373 0.05437946383105728\n",
      "mean and std dev are: 10.020092792849168 0.053375611979263396\n",
      "mean and std dev are: 10.026414726296773 0.05691233911704561\n",
      "mean and std dev are: 10.034629598373405 0.06189722942143388\n",
      "mean and std dev are: 10.014151192489079 0.052729878185427695\n",
      "mean and std dev are: 10.024033809103267 0.06520299581781656\n"
     ]
    }
   ],
   "source": [
    "import numpy as np\n",
    "import matplotlib.pyplot as plt\n",
    "\n",
    "for i in range(10):\n",
    "\n",
    "    # Generate num samples for L and T\n",
    "    num = 100\n",
    "    L_arr = np.random.normal(0.855,0.002,num)\n",
    "    T_arr = np.random.normal(1.835,0.005,num)\n",
    "\n",
    "    # Compute samples for g\n",
    "    g_arr = 4*np.pi**2 * L_arr/T_arr**2\n",
    "\n",
    "    # Compute mean and std dev using numpy built-in functions\n",
    "    print(\"mean and std dev are:\", np.mean(g_arr), np.std(g_arr))"
   ]
  },
  {
   "cell_type": "markdown",
   "metadata": {},
   "source": [
    "<font color='darkred'>The numbers are slightly different each time. If you only consider significant figures, sometimes you might get $g = 10.03 \\pm 0.06$, sometimes $g = 10.04 \\pm 0.07$, etc. </font>\n",
    "\n",
    "<font color='darkred'>You want to make $N$ large enough so that these values converge at the level of significant figures. By trial and error, I find that $N=100000$ is sufficient to give consistently $$g=10.02 \\pm 0.06\\, .$$ Any number $N \\ge 10^5$ is suitable (see below for 10 more runs with larger $N$).</font>"
   ]
  },
  {
   "cell_type": "code",
   "execution_count": 8,
   "metadata": {},
   "outputs": [
    {
     "name": "stdout",
     "output_type": "stream",
     "text": [
      "mean and std dev are: 10.024353885832504 0.05942398790120116\n",
      "mean and std dev are: 10.024689277945601 0.05941763428766663\n",
      "mean and std dev are: 10.024463791717396 0.05961274707403082\n",
      "mean and std dev are: 10.024231310860067 0.05968263844083791\n",
      "mean and std dev are: 10.024428543161106 0.05924832957088943\n",
      "mean and std dev are: 10.024504088781013 0.059330540636903996\n",
      "mean and std dev are: 10.024338526019578 0.059448155618540395\n",
      "mean and std dev are: 10.024170254049928 0.059465513499711395\n",
      "mean and std dev are: 10.024808805584465 0.05912389455007333\n",
      "mean and std dev are: 10.02484415943 0.059590207159669645\n"
     ]
    }
   ],
   "source": [
    "import numpy as np\n",
    "import matplotlib.pyplot as plt\n",
    "\n",
    "for i in range(10):\n",
    "\n",
    "    # Generate num samples for L and T\n",
    "    num = 100000\n",
    "    L_arr = np.random.normal(0.855,0.002,num)\n",
    "    T_arr = np.random.normal(1.835,0.005,num)\n",
    "\n",
    "    # Compute samples for g\n",
    "    g_arr = 4*np.pi**2 * L_arr/T_arr**2\n",
    "\n",
    "    # Compute mean and std dev using numpy built-in functions\n",
    "    print(\"mean and std dev are:\", np.mean(g_arr), np.std(g_arr))"
   ]
  },
  {
   "cell_type": "markdown",
   "metadata": {},
   "source": [
    "<font color='darkred'>Let's make a histogram and compare to a normal distribution. Here we need to choose a larger number of bins (at least 20) and we need to set `density=True`.</font>\n",
    "\n",
    "<font color='darkred'>They agree very well! Note setting a legend is optional (but good practice). For each plot, you set the keyword `label=str` where `str` is a string. Then you use the command `plt.legend()`.</font>"
   ]
  },
  {
   "cell_type": "code",
   "execution_count": 9,
   "metadata": {},
   "outputs": [
    {
     "data": {
      "image/png": "[encoded data removed]",
      "text/plain": [
       "<Figure size 432x288 with 1 Axes>"
      ]
     },
     "metadata": {
      "needs_background": "light"
     },
     "output_type": "display_data"
    }
   ],
   "source": [
    "# Generate num samples for L and T\n",
    "num = 100000\n",
    "L_arr = np.random.normal(0.855,0.002,num)\n",
    "T_arr = np.random.normal(1.835,0.005,num)\n",
    "\n",
    "# Compute samples for g\n",
    "g_arr = 4*np.pi**2 * L_arr/T_arr**2\n",
    "\n",
    "# Compute mean and std dev using numpy built-in functions\n",
    "mu = np.mean(g_arr)\n",
    "sigma = np.std(g_arr)\n",
    "\n",
    "# Make histogram\n",
    "plt.hist(g_arr,bins=50,density=True,label='histogram')\n",
    "\n",
    "# Plot Gaussian curve\n",
    "x = np.linspace(9.8,10.3,num=100)\n",
    "y = 1/np.sqrt(2*np.pi*sigma**2) * np.exp(-0.5*(x-mu)**2/sigma**2)\n",
    "plt.plot(x,y,label='Gaussian')\n",
    "\n",
    "plt.legend()\n",
    "\n",
    "plt.show()\n"
   ]
  },
  {
   "cell_type": "markdown",
   "metadata": {},
   "source": [
    "## <font color=#46769B>Part 2: Pendulum continued</font>\n",
    "\n",
    "Here we will consider the same example with an extra source of systematic error.\n",
    "\n",
    "Suppose we learn that the timing setup used for measuring the period $T$ may suffer from a uniform time delay $\\delta T$ from starting and stopping. That is, oscillation formula becomes\n",
    "$$T_0 = 2\\pi \\sqrt{L/g}$$\n",
    "where $T_0 = T + \\delta T$ is the *true* oscillation period and $T$ is the quantity we measure (given above). \n",
    "\n",
    "Suppose we know that $\\delta T$ is between $0-0.05$ s, but is otherwise unknown and all values in this range are equally likely. It makes sense to sample $\\delta T$ from a uniform distribution in the range $[0,0.05]$.\n",
    "\n",
    "- Using the values quoted above for $T$ and $L$, and including $\\delta T$ in your analysis, determine the mean value and uncertainty for $g$ (choose $N$ large enough so that these values have converged).\n",
    "\n",
    "- Compare your histogram for $g$ to a normal distribution of mean $\\mu=\\langle g \\rangle$ and standard deviation $\\sigma = \\Delta g$. (Make a plot of the normal distribution on top of the histogram.)"
   ]
  },
  {
   "cell_type": "markdown",
   "metadata": {},
   "source": [
    "### <font color='darkred'>Solution:</font>\n",
    "\n",
    "<font color='darkred'>I find, up to significant figures, \n",
    "$$g = 9.76 \\pm 0.16\\, .$$\n",
    "Here are 10 simulations performed with $N=10000$. (Any value $N \\ge 5000$ is sufficient.) </font>\n",
    "\n"
   ]
  },
  {
   "cell_type": "code",
   "execution_count": 10,
   "metadata": {},
   "outputs": [
    {
     "name": "stdout",
     "output_type": "stream",
     "text": [
      "mean and std dev are 9.757969660536489 0.1626632677757496\n",
      "mean and std dev are 9.760564077312596 0.1621938239510559\n",
      "mean and std dev are 9.760830078788887 0.16226668218923815\n",
      "mean and std dev are 9.756922534136987 0.16098191631769188\n",
      "mean and std dev are 9.755407094952455 0.16381820984811188\n",
      "mean and std dev are 9.758821404970195 0.16235881967491575\n",
      "mean and std dev are 9.759733479708034 0.1634595140705484\n",
      "mean and std dev are 9.758003606108742 0.1626191666665561\n",
      "mean and std dev are 9.758823994087079 0.1608153060532575\n",
      "mean and std dev are 9.760746067977852 0.1629699073211169\n"
     ]
    }
   ],
   "source": [
    "# Your answer to exercise 2 here\n",
    "\n",
    "# Run 10 simulations with N=10000\n",
    "for i in range(10):\n",
    "\n",
    "    # Generate num samples for L, T, and delta_T\n",
    "    num = 10000\n",
    "    L_arr = np.random.normal(0.855,0.002,num)\n",
    "    T_arr = np.random.normal(1.835,0.005,num)\n",
    "    delta_T_arr = 0.05*np.random.rand(num) # Note sample from uniform distirbution\n",
    "\n",
    "    # Obtain samples for T0\n",
    "    T0_arr = T_arr + delta_T_arr\n",
    "\n",
    "    # Compute samples for g\n",
    "    g_arr = 4*np.pi**2 * L_arr/T0_arr**2\n",
    "\n",
    "    # Compute mean and std dev using numpy built-in functions\n",
    "    mu = np.mean(g_arr)\n",
    "    sigma = np.std(g_arr)\n",
    "    print('mean and std dev are',mu,sigma)\n"
   ]
  },
  {
   "cell_type": "markdown",
   "metadata": {},
   "source": [
    "<font color='darkred'>Now let's make the histogram. It is clear that the histogram is no long described by a Gaussian! This is due to the fact that $\\delta T$ was not sampled from a Gaussian distribution. Note it is useful to choose a larger value of $N$.</font>\n"
   ]
  },
  {
   "cell_type": "code",
   "execution_count": 11,
   "metadata": {},
   "outputs": [
    {
     "name": "stdout",
     "output_type": "stream",
     "text": [
      "mean and std dev are 9.758659065278264 0.1621729873836829\n"
     ]
    },
    {
     "data": {
      "image/png": "[encoded data removed]",
      "text/plain": [
       "<Figure size 432x288 with 1 Axes>"
      ]
     },
     "metadata": {
      "needs_background": "light"
     },
     "output_type": "display_data"
    }
   ],
   "source": [
    "# Generate num samples for L, T, and delta_T\n",
    "num = 100000\n",
    "L_arr = np.random.normal(0.855,0.002,num)\n",
    "T_arr = np.random.normal(1.835,0.005,num)\n",
    "delta_T_arr = 0.05*np.random.rand(num) # Note sample from uniform distirbution\n",
    "\n",
    "# Obtain samples for T0\n",
    "T0_arr = T_arr + delta_T_arr\n",
    "\n",
    "# Compute samples for g\n",
    "g_arr = 4*np.pi**2 * L_arr/T0_arr**2\n",
    "\n",
    "# Compute mean and std dev using numpy built-in functions\n",
    "mu = np.mean(g_arr)\n",
    "sigma = np.std(g_arr)\n",
    "print('mean and std dev are',mu,sigma)\n",
    "\n",
    "# Make histogram\n",
    "plt.hist(g_arr,bins=20,density=True,label='histogram')\n",
    "\n",
    "# Plot Gaussian curve\n",
    "x = np.linspace(9.2,10.3,num=100)\n",
    "y = 1/np.sqrt(2*np.pi*sigma**2) * np.exp(-0.5*(x-mu)**2/sigma**2)\n",
    "plt.plot(x,y,label='Gaussian')\n",
    "\n",
    "plt.legend()\n",
    "\n",
    "plt.show()"
   ]
  },
  {
   "cell_type": "code",
   "execution_count": null,
   "metadata": {},
   "outputs": [],
   "source": []
  }
 ],
 "metadata": {
  "kernelspec": {
   "display_name": "Python 3",
   "language": "python",
   "name": "python3"
  },
  "language_info": {
   "codemirror_mode": {
    "name": "ipython",
    "version": 3
   },
   "file_extension": ".py",
   "mimetype": "text/x-python",
   "name": "python",
   "nbconvert_exporter": "python",
   "pygments_lexer": "ipython3",
   "version": "3.7.6"
  }
 },
 "nbformat": 4,
 "nbformat_minor": 4
}
