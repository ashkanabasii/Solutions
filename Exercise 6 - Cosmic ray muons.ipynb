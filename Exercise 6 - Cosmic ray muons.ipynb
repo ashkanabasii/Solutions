{
  "cells": [
    {
      "cell_type": "markdown",
      "metadata": {
        "id": "kXBQB9Ta8ca_"
      },
      "source": [
        "__Your name here__\n",
        "<br>\n",
        "Date: Jan. 24, 2021\n",
        "<br>\n",
        "PHYS 2030 W22"
      ]
    },
    {
      "cell_type": "markdown",
      "metadata": {
        "id": "WtZ4jo3Q8cbB"
      },
      "source": [
        "# <center><font color=#46769B>Exercise 6: Cosmic ray muons</font></center>\n",
        "\n",
        "## <font color=#46769B>Introduction:</font>\n",
        "\n",
        "Monte Carlo sampling is most useful for systems with several (or many more!) variables.\n",
        "\n",
        "Our goals for this notebook are:\n",
        "- Make a simulation with multiple random variables that need to be sampled \n",
        "\n",
        "Required reading:\n",
        "- *Lesson 3: Sampling from arbitrary distributions*"
      ]
    },
    {
      "cell_type": "markdown",
      "metadata": {
        "id": "Vob6ZTyf8cbC"
      },
      "source": [
        "## <font color=#46769B>Cosmic ray muons:</font>\n",
        "\n",
        "The muon (labeled $\\mu$) is an elementary particle that is similar to the electron, except it is about 200 times heavier and is unstable to radioactive decay. The lifetime of the muon is $\\tau = 2.2\\times 10^{-6}$ seconds, which means that a typical muon survives only a small fraction of a second after being produced, ultimately decaying into an electron and neutrinos. (For the curious reader, more information about muons can be found [here](https://en.wikipedia.org/wiki/Muon).)\n",
        "\n",
        "One natural source of muons is high-energy cosmic rays, which are protons and heavier elements accelerated in stars and other astronomical environments that ultimately smash into Earth's atmosphere. These collisions produce showers of particles, including muons.\n",
        "\n",
        "Despite their short lifetimes, many cosmic ray muons reach the surface of the Earth. In fact, many high-energy muons are able to penetrate a good distance into the Earth, which is the reason why some experiments need to be done at laboratories [deep underground](https://en.wikipedia.org/wiki/SNOLAB). On the other hand, cosmic ray muons can also be very useful, allowing us to see places that are inaccessible.\n",
        "Measuring how cosmic ray muons are absorbed (similar to taking an x-ray) allowed researchers to discover new hidden spaces in the Great Pyramid of Giza, a technique known as [muon tomography](https://www.livescience.com/56510-photos-inside-great-pyramid-giza.html).\n",
        "\n",
        "\n"
      ]
    },
    {
      "cell_type": "markdown",
      "metadata": {
        "id": "9kkJSIsK8cbC"
      },
      "source": [
        "## <font color=#46769B>Goal:</font>\n",
        "\n",
        "Suppose a muon is created in a cosmic ray collision with angle $\\theta$. What is the probability that a muon hits the surface of the Earth?\n",
        "- We will assume the muon has the same direction as the cosmic ray, specified by $\\theta$. We will treat the Earth as approximately flat, so the distance traveled by the muon is $L = h/\\cos\\theta$.\n",
        "- The muon is created by the collision at a distance $h$ above the Earth's surface, with energy $E$.\n",
        "- If the muon travels a distance $d$ before decaying, it hits the surface if $d > L$.\n",
        "\n",
        "<div>\n",
        "<img src=\"https://github.com/PHYS-2030-Computational-Methods/Lecture-notes/raw/main/figures/cosmic_rays.png\" width=\"500\">\n",
        "</div>\n",
        "\n",
        "We will randomly sample from all the unknown quantities in the problem:\n",
        "- Muon decay time $t$, using an exponential PDF (see Exercise 4)\n",
        "$$ P_t(t) = \\left\\{ \\begin{array}{cc} \\frac{1}{\\tau} e^{-t/\\tau} & {\\rm for} \\; t \\ge 0 \\\\\n",
        "0 & {\\rm otherwise} \\end{array} \\right. $$\n",
        "where $\\tau = 2.2 \\times 10^{-6}$ s is the lifetime.\n",
        "- Orientation angle $\\theta$ (see Exercise 5)\n",
        "$$P_\\theta(\\theta) = \\left\\{ \\begin{array}{cc} \\sin 2\\theta & {\\rm for} \\; 0 \\le \\theta \\le \\frac{\\pi}{2} \\\\ \n",
        "0 & {\\rm otherwise} \\end{array} \\right.  $$\n",
        "- Energy $E$, from a PDF $P_E(E)$, described below\n",
        "- Height $h$, from a PDF $P_h(h)$, described below\n",
        "\n",
        "Given the above variables, you need to know the decay distance $d$. You might take $d = v t$ where $v$ is the muon velocity. However, this is  __incorrect__ because it is essential to include the effect of time dilation from special relativity. The __correct__ formula is $d = vt\\gamma$, where $\\gamma$ is the *Lorentz factor*, described below.\n",
        "\n",
        "\n",
        "### <font color=#46769B>Lifetime, survival probability, and time dilation</font>\n",
        "\n",
        "The muon's decay time $t$ applies to a muon at rest (at rest, with zero kinetic energy). However, according to special relativity, a moving clock runs slower as measured by an observer at rest, which is known as time dilation.\n",
        "\n",
        "Here, the \"moving clock\" is the muon, which has velocity $v$ relative to an observer (us) at rest on the Earth. \n",
        "The muon decay time $t$ is how long it takes to decay *in its rest frame*. However, due to time dilation, an observer at rest on the Earth measures the decay time to be \n",
        "$$ t_{\\rm obs} = \\gamma t$$\n",
        "where $\\gamma$ is the *Lorentz factor* describing how much time dilation the muon is observed to have.\n",
        "Therefore, the distance $d$ the muon travels before it decays is\n",
        "$$d = v t_{\\rm obs} = v \\gamma t \\, .$$\n",
        "\n",
        "Next, we use some relations from special relativity to express $d$ as follows. We define the muon mass $m$, the speed of light $c$, and the (total) muon energy $E$, which includes the rest mass energy ($E_m = m c^2$). \n",
        "The Lorentz factor can be expressed as $\\gamma = \\frac{E}{E_m}$ and the muon velocity can be written as $v = c \\sqrt{E^2 - E_m^2}/{E}$.\n",
        "Combining these relations, we have\n",
        "$$ d = c t \\frac{\\sqrt{E^2 - E_m^2}}{E_m} \\, . \\qquad {\\rm (1)}$$\n",
        "If you are not familiar with special relativity, just note that Eq. (1) is the formula you will use to calculate how far a muon will travel, given its decay time $t$ that you sample from $P_t(t)$. If $d > L$, the muon reaches the Earth's surface.\n",
        "\n"
      ]
    },
    {
      "cell_type": "markdown",
      "metadata": {
        "id": "KGH-opFC8cbE"
      },
      "source": [
        "# <font color=#46769B>Exercise</font>\n",
        "\n",
        "## <font color=#46769B>Part (a)</font>\n",
        "\n",
        "Write a code `sample_dist(num)` that randomly samples $t,E$ from their respective PDFs and generates samples for $d$, the distance traveled by the muon before it decays, according to Eq. (1). Make a histogram for $d$ (in units of km), with $N = 10^5$ samples.\n",
        "\n",
        "The PDF you will use for $E$ is a power law\n",
        "$$P(E) = \n",
        "\\left\\{ \\begin{array}{cc} \\frac{1}{E_m} E^{-2} & {\\rm for} \\; E \\ge E_m \\\\\n",
        "0 & {\\rm otherwise} \\end{array} \\right. \\, .$$\n",
        "Note you will have to determine (analytically) the CDF and inverse CDF for sampling $E$, as in Exercises 4 and 5.\n",
        "\n",
        "Also, use the following numerical constants:\n",
        "- Muon rest mass energy $E_m = mc^2 = 0.106 \\; {\\rm GeV}$. It is customary to measure the rest mass energy in units of GeV (giga-electron volts), instead of SI units (Joules).\n",
        "- Speed of light: $c = 3 \\times 10^5 \\;  {\\rm km/s}$..\n",
        "\n"
      ]
    },
    {
      "cell_type": "code",
      "execution_count": null,
      "metadata": {
        "id": "WW5ESdbq8cbE"
      },
      "outputs": [],
      "source": [
        "import numpy as np\n",
        "import matplotlib.pyplot\n",
        "\n",
        "Em = 0.106\n",
        "c = 3e5\n",
        "N=10**5\n",
        "E=np.linspace(-2,2,num=1000)\n",
        "\n",
        "def sample_dist(num) \n",
        "\n",
        "PDF = np.zeros_like(s)\n",
        "CDF = np.zeros_like(s)\n",
        "t=np.zeros_like(s)\n",
        "\n",
        "for i in range(len(E)):\n",
        "PDF[i]= ((1/Em)*(E**(-2)))\n",
        "CDF[i]= ((-Em/E)+1)\n",
        "CDF_inverse[i]= (Em/(1-E))\n",
        "t = np.random.rand(N)\n",
        "\n",
        "\n",
        "plt.plot(s,PDF,label='PDF')\n",
        "plt.plot(s,CDF,'--',label='CDF')\n",
        "plt.plot(s,r,label='y')"
      ]
    },
    {
      "cell_type": "markdown",
      "metadata": {
        "id": "wrcof7_c8cbF"
      },
      "source": [
        "## <font color=#46769B>Part (b)</font>\n",
        "\n",
        "Suppose $h$ is described by a PDF $P_h = \\mathcal{N}(15 \\; {\\rm km},2\\; {\\rm km})$, i.e., a normal distribution of mean $\\mu=15$ km and width $\\sigma=2$ km. \n",
        "\n",
        "Write a code `sample_L(num)` that randomly samples $h,\\theta$ from their respective PDFs and generates samples for $L = h/\\cos\\theta$, the distance a muon needs to travel to hit the Earth's surface. Make a histogram for $L$ (in units of km), with $N = 10^5$ samples."
      ]
    },
    {
      "cell_type": "code",
      "execution_count": null,
      "metadata": {
        "id": "22nv3fcu8cbG"
      },
      "outputs": [],
      "source": [
        "N=10**5\n",
        "def sample_L(N)\n",
        "PDF(h) = (1/((e**((E-15)/8)**2)2*(np.sqrt*2*np.pi)))\n",
        "PDF(𝜭)= np.sin(2𝜭)\n",
        "\n",
        "h=np.random.rand(PDF(h))\n",
        "𝜭=np.random.rand(PDF(𝜭))\n",
        "L=h/np.cos(𝜭)"
      ]
    },
    {
      "cell_type": "markdown",
      "metadata": {
        "id": "uwTclI2b8cbG"
      },
      "source": [
        "## <font color=#46769B>Part (c)</font>\n",
        "\n",
        "Using your code in parts (a) and (b), determine the fraction of muons $f$ that reach the surface. \n",
        "- Run 100 simulations, each with $N=10^5$ samples for $d$ and $L$.\n",
        "- For each simulation, compute $f$, saving each one to a list `list_of_f`\n",
        "- Compute the mean value of the fraction `np.mean(list_of_f)` and the uncertainty on $f$ `np.std(list_of_f)`"
      ]
    },
    {
      "cell_type": "code",
      "execution_count": null,
      "metadata": {
        "id": "0eOPOw3j8cbH"
      },
      "outputs": [],
      "source": [
        "N=10**5\n",
        "\n"
      ]
    },
    {
      "cell_type": "markdown",
      "metadata": {
        "id": "9TxbG75K8cbH"
      },
      "source": [
        "## <font color=#46769B>Part (d)</font>\n",
        "\n",
        "Make a histogram for $E$ (setting `density=True`), showing the distribution of muon energies, for *only the muons that hit the surface*. Compare to the PDF $P_E(E)$."
      ]
    },
    {
      "cell_type": "code",
      "execution_count": null,
      "metadata": {
        "id": "06NO-F868cbH"
      },
      "outputs": [],
      "source": [
        "# Your code here\n",
        "\n"
      ]
    },
    {
      "cell_type": "code",
      "execution_count": null,
      "metadata": {
        "id": "B6V1n35j8cbH"
      },
      "outputs": [],
      "source": [
        ""
      ]
    }
  ],
  "metadata": {
    "kernelspec": {
      "display_name": "Python 3",
      "language": "python",
      "name": "python3"
    },
    "language_info": {
      "codemirror_mode": {
        "name": "ipython",
        "version": 3
      },
      "file_extension": ".py",
      "mimetype": "text/x-python",
      "name": "python",
      "nbconvert_exporter": "python",
      "pygments_lexer": "ipython3",
      "version": "3.7.6"
    },
    "colab": {
      "name": "Exercise 6 - Cosmic ray muons.ipynb",
      "provenance": []
    }
  },
  "nbformat": 4,
  "nbformat_minor": 0
}